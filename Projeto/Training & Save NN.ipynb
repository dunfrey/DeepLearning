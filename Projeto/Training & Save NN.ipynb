{
 "cells": [
  {
   "cell_type": "code",
   "execution_count": 1,
   "metadata": {},
   "outputs": [
    {
     "name": "stderr",
     "output_type": "stream",
     "text": [
      "Using TensorFlow backend.\n"
     ]
    }
   ],
   "source": [
    "import os\n",
    "import cv2\n",
    "import numpy as np\n",
    "import matplotlib.pyplot as plt\n",
    "import h5py\n",
    "\n",
    "from sklearn.utils import shuffle\n",
    "from sklearn.model_selection import train_test_split\n",
    "\n",
    "#---------------------------\n",
    "#ordenacao de informacoes em backend: tensorflow ou theano\n",
    "#representa o \"image data format\"\n",
    "#ambos possuem as mesmas informacoes, mas os parametros sao passados em posicoes diferentes\n",
    "#TF:(808L,128L,128L,3L) : (num_samples, num_rows, num_columns, num_channels)\n",
    "#TH:(808L,3L,128L,128L) : (num_samples, num_channels, num_rows, num_columns)\n",
    "from keras import backend as K\n",
    "K.set_image_dim_ordering('th')\n",
    "\n",
    "from keras.utils import np_utils\n",
    "from keras.models import Sequential\n",
    "from keras.layers.core import Dense, Dropout, Activation, Flatten\n",
    "from keras.layers.convolutional import Conv2D, MaxPooling2D\n",
    "from keras.optimizers import SGD,RMSprop,adam\n",
    "\n",
    "#%%\n",
    "# Saving and loading model and weights\n",
    "from keras.models import model_from_json\n",
    "from keras.models import load_model"
   ]
  },
  {
   "cell_type": "code",
   "execution_count": 2,
   "metadata": {},
   "outputs": [
    {
     "name": "stdout",
     "output_type": "stream",
     "text": [
      "Loaded the images of dataset-Percurso2\n",
      "632  imgs\n",
      "\n",
      "Loaded the images of dataset-Percurso4\n",
      "1212  imgs\n",
      "\n",
      "Loaded the images of dataset-Percurso3\n",
      "1585  imgs\n",
      "\n",
      "Loaded the images of dataset-Percurso1\n",
      "2247  imgs\n",
      "\n",
      "(2247, 1, 128, 128)\n"
     ]
    }
   ],
   "source": [
    "PATH = os.getcwd()\n",
    "\n",
    "# Define data path\n",
    "data_path = PATH + '/data'\n",
    "data_dir_list = os.listdir(data_path)\n",
    "\n",
    "img_rows=128\n",
    "img_cols=128\n",
    "num_channel=1 \n",
    "num_epoch=8\n",
    "\n",
    "img_data_list=[]\n",
    "\n",
    "#---------------------------\n",
    "#diretorio onde estao todas as imagens\n",
    "for dataset in data_dir_list:\n",
    "    img_list=os.listdir(data_path+'/'+ dataset)\n",
    "    print ('Loaded the images of dataset-'+'{}'.format(dataset))\n",
    "    for img in img_list:\n",
    "        input_img=cv2.imread(data_path + '/'+ dataset + '/'+ img )\n",
    "        input_img=cv2.cvtColor(input_img, cv2.COLOR_BGR2GRAY)\n",
    "        input_img_resize=cv2.resize(input_img,(128,128))\n",
    "        img_data_list.append(input_img_resize)\n",
    "    #Imagens por classes\n",
    "    print (len(img_data_list), \" imgs\\n\")\n",
    "\n",
    "\n",
    "img_data = np.array(img_data_list)\n",
    "img_data = img_data.astype('float32')\n",
    "img_data /= 255\n",
    "\n",
    "#---------------------------\n",
    "if num_channel==1:\n",
    "    if K.image_dim_ordering()=='th':\n",
    "        img_data= np.expand_dims(img_data, axis=1) \n",
    "        print (img_data.shape)\n",
    "    else:\n",
    "        img_data= np.expand_dims(img_data, axis=4) \n",
    "        print (img_data.shape)\n",
    "#se for colorida a imagem\n",
    "else:\n",
    "    if K.image_dim_ordering()=='th':\n",
    "        img_data=np.rollaxis(img_data,3,1)\n",
    "        print (img_data.shape)"
   ]
  },
  {
   "cell_type": "code",
   "execution_count": 3,
   "metadata": {},
   "outputs": [],
   "source": [
    "#%%\n",
    "USE_SKLEARN_PREPROCESSING=False\n",
    "\n",
    "if USE_SKLEARN_PREPROCESSING:\n",
    "    # using sklearn for preprocessing\n",
    "    from sklearn import preprocessing\n",
    "\n",
    "    def image_to_feature_vector(image, size=(128, 128)):\n",
    "        # resize the image to a fixed size, then flatten the image into\n",
    "        # a list of raw pixel intensities\n",
    "        return cv2.resize(image, size).flatten()\n",
    "    \n",
    "    img_data_list=[]\n",
    "    for dataset in data_dir_list:\n",
    "        img_list=os.listdir(data_path+'/'+ dataset)\n",
    "        print ('Loaded the images of dataset-'+'{}\\n'.format(dataset))\n",
    "        for img in img_list:\n",
    "            input_img=cv2.imread(data_path + '/'+ dataset + '/'+ img )\n",
    "            input_img=cv2.cvtColor(input_img, cv2.COLOR_BGR2GRAY)\n",
    "            input_img_flatten=image_to_feature_vector(input_img,(128,128))\n",
    "            img_data_list.append(input_img_flatten)\n",
    "\n",
    "    img_data = np.array(img_data_list)\n",
    "    img_data = img_data.astype('float32')\n",
    "    print (img_data.shape)\n",
    "    img_data_scaled = preprocessing.scale(img_data)\n",
    "    print (img_data_scaled.shape)\n",
    "\n",
    "    print (np.mean(img_data_scaled))\n",
    "    print (np.std(img_data_scaled))\n",
    "\n",
    "    print (img_data_scaled.mean(axis=0))\n",
    "    print (img_data_scaled.std(axis=0))\n",
    "\n",
    "    if K.image_dim_ordering()=='th':\n",
    "        img_data_scaled=img_data_scaled.reshape(img_data.shape[0],num_channel,img_rows,img_cols)\n",
    "        print (img_data_scaled.shape)\n",
    "\n",
    "    else:\n",
    "        img_data_scaled=img_data_scaled.reshape(img_data.shape[0],img_rows,img_cols,num_channel)\n",
    "        print (img_data_scaled.shape)\n",
    "\n",
    "    if K.image_dim_ordering()=='th':\n",
    "        img_data_scaled=img_data_scaled.reshape(img_data.shape[0],num_channel,img_rows,img_cols)\n",
    "        print (img_data_scaled.shape)\n",
    "\n",
    "    else:\n",
    "        img_data_scaled=img_data_scaled.reshape(img_data.shape[0],img_rows,img_cols,num_channel)\n",
    "        print (img_data_scaled.shape)\n",
    "\n",
    "if USE_SKLEARN_PREPROCESSING:\n",
    "    img_data=img_data_scaled"
   ]
  },
  {
   "cell_type": "code",
   "execution_count": 4,
   "metadata": {},
   "outputs": [
    {
     "name": "stdout",
     "output_type": "stream",
     "text": [
      "Input_shape:  (1, 128, 128)\n",
      "_________________________________________________________________\n",
      "Layer (type)                 Output Shape              Param #   \n",
      "=================================================================\n",
      "conv2d_1 (Conv2D)            (None, 32, 128, 128)      320       \n",
      "_________________________________________________________________\n",
      "activation_1 (Activation)    (None, 32, 128, 128)      0         \n",
      "_________________________________________________________________\n",
      "conv2d_2 (Conv2D)            (None, 32, 126, 126)      9248      \n",
      "_________________________________________________________________\n",
      "activation_2 (Activation)    (None, 32, 126, 126)      0         \n",
      "_________________________________________________________________\n",
      "max_pooling2d_1 (MaxPooling2 (None, 32, 63, 63)        0         \n",
      "_________________________________________________________________\n",
      "dropout_1 (Dropout)          (None, 32, 63, 63)        0         \n",
      "_________________________________________________________________\n",
      "conv2d_3 (Conv2D)            (None, 64, 61, 61)        18496     \n",
      "_________________________________________________________________\n",
      "activation_3 (Activation)    (None, 64, 61, 61)        0         \n",
      "_________________________________________________________________\n",
      "max_pooling2d_2 (MaxPooling2 (None, 64, 30, 30)        0         \n",
      "_________________________________________________________________\n",
      "dropout_2 (Dropout)          (None, 64, 30, 30)        0         \n",
      "_________________________________________________________________\n",
      "flatten_1 (Flatten)          (None, 57600)             0         \n",
      "_________________________________________________________________\n",
      "dense_1 (Dense)              (None, 64)                3686464   \n",
      "_________________________________________________________________\n",
      "activation_4 (Activation)    (None, 64)                0         \n",
      "_________________________________________________________________\n",
      "dropout_3 (Dropout)          (None, 64)                0         \n",
      "_________________________________________________________________\n",
      "dense_2 (Dense)              (None, 4)                 260       \n",
      "_________________________________________________________________\n",
      "activation_5 (Activation)    (None, 4)                 0         \n",
      "=================================================================\n",
      "Total params: 3,714,788\n",
      "Trainable params: 3,714,788\n",
      "Non-trainable params: 0\n",
      "_________________________________________________________________\n"
     ]
    },
    {
     "data": {
      "text/plain": [
       "True"
      ]
     },
     "execution_count": 4,
     "metadata": {},
     "output_type": "execute_result"
    }
   ],
   "source": [
    "# Define the number of classes\n",
    "num_classes = 4\n",
    "\n",
    "num_of_samples = img_data.shape[0]\n",
    "labels = np.ones((num_of_samples,),dtype='int64')\n",
    "\n",
    "#Quantidade de imagens por classes\n",
    "labels[0:632]=0\n",
    "labels[633:1212]=1\n",
    "labels[1213:1585]=2\n",
    "labels[1586:]=3\n",
    "  \n",
    "names = ['percurso2','percurso4','percurso3','percurso1']\n",
    "  \n",
    "# convert class labels to on-hot encoding\n",
    "Y = np_utils.to_categorical(labels, num_classes)\n",
    "\n",
    "#Shuffle the dataset\n",
    "x,y = shuffle(img_data,Y, random_state=2)\n",
    "# Split the dataset\n",
    "X_train, X_test, y_train, y_test = train_test_split(x, y, test_size=0.2, random_state=2)\n",
    "\n",
    "# Defining the model\n",
    "input_shape=img_data[0].shape\n",
    "print(\"Input_shape: \" , input_shape)\n",
    "\n",
    "model = Sequential()\n",
    "\n",
    "model.add(Conv2D(32, (3, 3), padding='same',input_shape=input_shape))\n",
    "model.add(Activation('relu'))\n",
    "\n",
    "model.add(Conv2D(32, (3, 3)))\n",
    "model.add(Activation('elu'))\n",
    "model.add(MaxPooling2D(pool_size=(2, 2)))\n",
    "model.add(Dropout(0.5))\n",
    "\n",
    "model.add(Conv2D(64, (3, 3)))\n",
    "model.add(Activation('elu'))\n",
    "model.add(MaxPooling2D(pool_size=(2, 2)))\n",
    "model.add(Dropout(0.5))\n",
    "\n",
    "model.add(Flatten())\n",
    "model.add(Dense(64))\n",
    "model.add(Activation('relu'))\n",
    "model.add(Dropout(0.5))\n",
    "\n",
    "model.add(Dense(num_classes))\n",
    "model.add(Activation('softmax'))\n",
    "\n",
    "model.compile(optimizer='adadelta',\n",
    "              loss='categorical_crossentropy',\n",
    "              metrics=['accuracy'])\n",
    "\n",
    "model.summary()\n",
    "model.get_config()\n",
    "model.layers[0].get_config()\n",
    "model.layers[0].input_shape\n",
    "model.layers[0].output_shape\n",
    "model.layers[0].get_weights()\n",
    "np.shape(model.layers[0].get_weights()[0])\n",
    "model.layers[0].trainable"
   ]
  },
  {
   "cell_type": "code",
   "execution_count": 5,
   "metadata": {},
   "outputs": [
    {
     "name": "stdout",
     "output_type": "stream",
     "text": [
      "Train on 1797 samples, validate on 450 samples\n",
      "Epoch 1/8\n",
      "1797/1797 [==============================] - 441s 245ms/step - loss: 1.4791 - acc: 0.3350 - val_loss: 1.1930 - val_acc: 0.6378\n",
      "Epoch 2/8\n",
      "1797/1797 [==============================] - 440s 245ms/step - loss: 1.0718 - acc: 0.4396 - val_loss: 0.9994 - val_acc: 0.6533\n",
      "Epoch 3/8\n",
      "1797/1797 [==============================] - 430s 239ms/step - loss: 0.8769 - acc: 0.5993 - val_loss: 0.3725 - val_acc: 0.8889\n",
      "Epoch 4/8\n",
      "1797/1797 [==============================] - 429s 239ms/step - loss: 0.6976 - acc: 0.7807 - val_loss: 0.2096 - val_acc: 0.8911\n",
      "Epoch 5/8\n",
      "1797/1797 [==============================] - 574s 319ms/step - loss: 0.1756 - acc: 0.9521 - val_loss: 0.0943 - val_acc: 0.9644\n",
      "Epoch 6/8\n",
      "1797/1797 [==============================] - 531s 296ms/step - loss: 0.0995 - acc: 0.9727 - val_loss: 0.0192 - val_acc: 0.9978\n",
      "Epoch 7/8\n",
      "1797/1797 [==============================] - 527s 293ms/step - loss: 0.0645 - acc: 0.9822 - val_loss: 0.1272 - val_acc: 0.9444\n",
      "Epoch 8/8\n",
      "1797/1797 [==============================] - 426s 237ms/step - loss: 0.0667 - acc: 0.9850 - val_loss: 0.0143 - val_acc: 0.9933\n"
     ]
    }
   ],
   "source": [
    "# Training\n",
    "hist = model.fit(X_train, y_train, batch_size=50, epochs=num_epoch, verbose=1, validation_data=(X_test, y_test))"
   ]
  },
  {
   "cell_type": "code",
   "execution_count": 6,
   "metadata": {},
   "outputs": [
    {
     "data": {
      "image/png": "[encoded data removed]",
      "text/plain": [
       "<Figure size 504x360 with 1 Axes>"
      ]
     },
     "metadata": {},
     "output_type": "display_data"
    },
    {
     "data": {
      "image/png": "[encoded data removed]",
      "text/plain": [
       "<Figure size 504x360 with 1 Axes>"
      ]
     },
     "metadata": {},
     "output_type": "display_data"
    }
   ],
   "source": [
    "# visualizing losses and accuracy\n",
    "train_loss=hist.history['loss']\n",
    "val_loss=hist.history['val_loss']\n",
    "train_acc=hist.history['acc']\n",
    "val_acc=hist.history['val_acc']\n",
    "xc=range(num_epoch)\n",
    "\n",
    "plt.figure(1,figsize=(7,5))\n",
    "plt.plot(xc,train_loss)\n",
    "plt.plot(xc,val_loss)\n",
    "plt.xlabel('num of Epochs')\n",
    "plt.ylabel('loss')\n",
    "plt.title('train_loss vs val_loss')\n",
    "plt.grid(True)\n",
    "plt.legend(['train','val'])\n",
    "#print plt.style.available # use bmh, classic,ggplot for big pictures\n",
    "plt.style.use(['ggplot'])\n",
    "\n",
    "plt.figure(2,figsize=(7,5))\n",
    "plt.plot(xc,train_acc)\n",
    "plt.plot(xc,val_acc)\n",
    "plt.xlabel('num of Epochs')\n",
    "plt.ylabel('accuracy')\n",
    "plt.title('train_acc vs val_acc')\n",
    "plt.grid(True)\n",
    "plt.legend(['train','val'],loc=4)\n",
    "#print plt.style.available # use bmh, classic,ggplot for big pictures\n",
    "plt.style.use(['ggplot'])"
   ]
  },
  {
   "cell_type": "code",
   "execution_count": 10,
   "metadata": {},
   "outputs": [
    {
     "name": "stdout",
     "output_type": "stream",
     "text": [
      "450/450 [==============================] - 50s 111ms/step\n",
      "Test Loss: 0.014294314965227387\n",
      "Test accuracy: 0.9933333333333333\n"
     ]
    }
   ],
   "source": [
    "# Evaluating the model\n",
    "score = model.evaluate(X_test, y_test)\n",
    "print('Test Loss:', score[0])\n",
    "print('Test accuracy:', score[1])\n",
    "\n",
    "#test_image = X_test[0:1]\n",
    "#print (test_image.shape)\n",
    "\n",
    "#print(model.predict(test_image))\n",
    "#print(model.predict_classes(test_image))\n",
    "#print(y_test[0:1])"
   ]
  },
  {
   "cell_type": "code",
   "execution_count": 13,
   "metadata": {},
   "outputs": [
    {
     "name": "stdout",
     "output_type": "stream",
     "text": [
      "[[9.9999869e-01 1.3231981e-06 3.3720235e-09 4.4751540e-09]\n",
      " [8.3845458e-05 2.7682040e-07 9.9991274e-01 3.1317122e-06]\n",
      " [9.9950898e-01 4.3842774e-05 5.0314211e-06 4.4217514e-04]\n",
      " ...\n",
      " [5.5686887e-03 9.8964369e-01 3.8307726e-07 4.7871238e-03]\n",
      " [3.8963303e-06 3.3352407e-07 9.9999571e-01 7.3305591e-11]\n",
      " [6.6332636e-06 6.7228342e-07 9.9996626e-01 2.6401043e-05]]\n",
      "[0 2 0 3 1 0 3 1 1 0 2 0 0 3 1 3 1 1 3 0 1 3 0 0 0 1 1 3 3 0 0 0 1 0 3 1 0\n",
      " 0 2 1 1 3 1 0 1 1 1 3 2 1 3 1 0 2 1 2 3 0 2 3 0 3 1 3 3 1 0 1 2 3 3 0 3 2\n",
      " 3 1 1 1 3 0 3 1 0 1 0 1 0 1 3 2 0 1 3 0 1 1 1 1 2 3 2 3 2 3 0 2 3 3 0 3 1\n",
      " 1 3 0 3 3 3 3 0 1 1 3 2 1 0 0 1 3 1 3 3 0 3 3 3 0 1 3 0 3 2 0 3 1 1 1 0 1\n",
      " 2 3 0 3 0 2 1 3 1 3 3 1 3 1 3 2 3 0 3 2 3 1 0 1 0 2 3 3 3 1 0 3 3 3 2 3 0\n",
      " 3 0 2 3 3 0 2 1 3 3 0 3 2 3 0 2 0 0 0 1 3 0 3 0 1 0 1 1 1 0 3 3 2 3 1 1 1\n",
      " 3 2 3 2 2 0 1 1 1 2 1 1 0 3 0 0 1 0 3 1 2 3 0 1 3 0 0 0 0 3 2 1 1 0 2 0 0\n",
      " 2 1 1 3 2 0 0 1 1 3 1 1 0 2 1 0 1 3 3 1 3 3 3 3 0 2 0 1 1 1 2 2 2 2 3 2 0\n",
      " 0 3 2 3 0 1 1 0 1 2 1 0 1 0 0 2 1 2 3 3 1 3 3 3 3 3 2 3 0 0 3 3 3 2 1 0 1\n",
      " 3 3 3 0 2 0 0 1 3 2 0 2 0 1 1 3 1 3 3 0 3 2 3 2 2 3 3 1 1 3 3 3 3 2 3 0 0\n",
      " 2 1 3 2 3 1 1 3 1 3 0 3 3 0 0 3 1 0 1 1 3 2 3 1 0 3 1 3 0 1 1 0 0 3 0 3 3\n",
      " 3 3 2 0 0 0 0 3 0 1 0 3 3 2 0 2 1 1 3 3 1 3 0 3 2 0 3 2 2 0 1 2 1 2 0 0 0\n",
      " 3 1 3 1 2 2]\n",
      "                    precision    recall  f1-score   support\n",
      "\n",
      "class 0(percurso2)       1.00      0.99      1.00       117\n",
      "class 1(percurso4)       0.99      0.98      0.99       120\n",
      "class 2(percurso3)       1.00      1.00      1.00        69\n",
      "class 3(percurso4)       0.99      1.00      0.99       144\n",
      "\n",
      "       avg / total       0.99      0.99      0.99       450\n",
      "\n",
      "[[116   1   0   0]\n",
      " [  0 118   0   2]\n",
      " [  0   0  69   0]\n",
      " [  0   0   0 144]]\n"
     ]
    }
   ],
   "source": [
    "# Printing the confusion matrix\n",
    "from sklearn.metrics import classification_report,confusion_matrix\n",
    "import itertools\n",
    "\n",
    "Y_pred = model.predict(X_test)\n",
    "print(Y_pred)\n",
    "y_pred = np.argmax(Y_pred, axis=1)\n",
    "print(y_pred)\n",
    "#y_pred = model.predict_classes(X_test)\n",
    "#print(y_pred)\n",
    "target_names = ['class 0(percurso2)', 'class 1(percurso4)', 'class 2(percurso3)','class 3(percurso4)']\n",
    "\n",
    "print(classification_report(np.argmax(y_test,axis=1), y_pred,target_names=target_names))\n",
    "\n",
    "print(confusion_matrix(np.argmax(y_test,axis=1), y_pred))"
   ]
  },
  {
   "cell_type": "code",
   "execution_count": 14,
   "metadata": {},
   "outputs": [
    {
     "name": "stdout",
     "output_type": "stream",
     "text": [
      "Saved model to disk\n"
     ]
    }
   ],
   "source": [
    "# serialize model to JSON\n",
    "model_json = model.to_json()\n",
    "with open(\"model.json\", \"w\") as json_file:\n",
    "    json_file.write(model_json)\n",
    "# serialize weights to HDF5\n",
    "model.save_weights(\"model.h5\")\n",
    "print(\"Saved model to disk\")\n",
    "model.save('model.hdf5')"
   ]
  },
  {
   "cell_type": "code",
   "execution_count": null,
   "metadata": {},
   "outputs": [],
   "source": []
  }
 ],
 "metadata": {
  "kernelspec": {
   "display_name": "Python 3",
   "language": "python",
   "name": "python3"
  },
  "language_info": {
   "codemirror_mode": {
    "name": "ipython",
    "version": 3
   },
   "file_extension": ".py",
   "mimetype": "text/x-python",
   "name": "python",
   "nbconvert_exporter": "python",
   "pygments_lexer": "ipython3",
   "version": "3.6.5"
  }
 },
 "nbformat": 4,
 "nbformat_minor": 2
}
