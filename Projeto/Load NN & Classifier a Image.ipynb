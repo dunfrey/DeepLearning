{
 "cells": [
  {
   "cell_type": "code",
   "execution_count": 5,
   "metadata": {},
   "outputs": [],
   "source": [
    "import os\n",
    "import cv2\n",
    "import numpy as np\n",
    "import matplotlib.pyplot as plt\n",
    "%matplotlib inline\n",
    "import h5py\n",
    "\n",
    "from keras import backend as K\n",
    "K.set_image_dim_ordering('th')\n",
    "\n",
    "from keras.utils import np_utils\n",
    "from keras.models import Sequential\n",
    "from keras.layers.core import Dense, Dropout, Activation, Flatten\n",
    "from keras.layers.convolutional import Conv2D, MaxPooling2D\n",
    "from keras.optimizers import SGD,RMSprop,adam\n",
    "\n",
    "#%%\n",
    "# Saving and loading model and weights\n",
    "from keras.models import model_from_json\n",
    "from keras.models import load_model"
   ]
  },
  {
   "cell_type": "code",
   "execution_count": 6,
   "metadata": {},
   "outputs": [],
   "source": [
    "# Define image\n",
    "input_shape=(1, 128, 128)\n",
    "img_rows=128\n",
    "img_cols=128\n",
    "num_channel=1\n",
    "\n",
    "#define qutd classes\n",
    "num_classes = 12\n",
    "names = ['class 0(Percurso1.1)', 'class 1(Percurso3.3)', 'class 2(Percurso3.2)','class 3(Percurso4.2)',\\\n",
    "                'class 4(Percurso1.2)', 'class 5(Percurso2.1)', 'class 6(Percurso3.1)','class 7(Percurso4.1)',\\\n",
    "                'class 8(Percurso2.2)', 'class 9(Percurso2.3)', 'class 10(Percurso4.3)','class 11(Percurso1.3)']"
   ]
  },
  {
   "cell_type": "code",
   "execution_count": 7,
   "metadata": {},
   "outputs": [
    {
     "name": "stdout",
     "output_type": "stream",
     "text": [
      "_________________________________________________________________\n",
      "Layer (type)                 Output Shape              Param #   \n",
      "=================================================================\n",
      "conv2d_5 (Conv2D)            (None, 32, 128, 128)      320       \n",
      "_________________________________________________________________\n",
      "activation_3 (Activation)    (None, 32, 128, 128)      0         \n",
      "_________________________________________________________________\n",
      "conv2d_6 (Conv2D)            (None, 32, 126, 126)      9248      \n",
      "_________________________________________________________________\n",
      "activation_4 (Activation)    (None, 32, 126, 126)      0         \n",
      "_________________________________________________________________\n",
      "max_pooling2d_1 (MaxPooling2 (None, 32, 63, 63)        0         \n",
      "_________________________________________________________________\n",
      "dropout_1 (Dropout)          (None, 32, 63, 63)        0         \n",
      "_________________________________________________________________\n",
      "conv2d_7 (Conv2D)            (None, 64, 61, 61)        18496     \n",
      "_________________________________________________________________\n",
      "activation_5 (Activation)    (None, 64, 61, 61)        0         \n",
      "_________________________________________________________________\n",
      "max_pooling2d_2 (MaxPooling2 (None, 64, 30, 30)        0         \n",
      "_________________________________________________________________\n",
      "dropout_2 (Dropout)          (None, 64, 30, 30)        0         \n",
      "_________________________________________________________________\n",
      "flatten_1 (Flatten)          (None, 57600)             0         \n",
      "_________________________________________________________________\n",
      "dense_1 (Dense)              (None, 64)                3686464   \n",
      "_________________________________________________________________\n",
      "activation_6 (Activation)    (None, 64)                0         \n",
      "_________________________________________________________________\n",
      "dropout_3 (Dropout)          (None, 64)                0         \n",
      "_________________________________________________________________\n",
      "dense_2 (Dense)              (None, 12)                780       \n",
      "_________________________________________________________________\n",
      "activation_7 (Activation)    (None, 12)                0         \n",
      "=================================================================\n",
      "Total params: 3,715,308\n",
      "Trainable params: 3,715,308\n",
      "Non-trainable params: 0\n",
      "_________________________________________________________________\n"
     ]
    },
    {
     "data": {
      "text/plain": [
       "True"
      ]
     },
     "execution_count": 7,
     "metadata": {},
     "output_type": "execute_result"
    }
   ],
   "source": [
    "model = Sequential()\n",
    "\n",
    "model.add(Conv2D(32, (3, 3), padding='same',input_shape=input_shape))\n",
    "model.add(Activation('relu'))\n",
    "\n",
    "model.add(Conv2D(32, (3, 3)))\n",
    "model.add(Activation('elu'))\n",
    "model.add(MaxPooling2D(pool_size=(2, 2)))\n",
    "model.add(Dropout(0.5))\n",
    "\n",
    "model.add(Conv2D(64, (3, 3)))\n",
    "model.add(Activation('elu'))\n",
    "model.add(MaxPooling2D(pool_size=(2, 2)))\n",
    "model.add(Dropout(0.5))\n",
    "\n",
    "model.add(Flatten())\n",
    "model.add(Dense(64))\n",
    "model.add(Activation('relu'))\n",
    "model.add(Dropout(0.5))\n",
    "\n",
    "model.add(Dense(num_classes))\n",
    "model.add(Activation('softmax'))\n",
    "\n",
    "model.compile(optimizer='adadelta',\n",
    "              loss='categorical_crossentropy',\n",
    "              metrics=['accuracy'])\n",
    "\n",
    "model.summary()\n",
    "model.get_config()\n",
    "model.layers[0].get_config()\n",
    "model.layers[0].input_shape\n",
    "model.layers[0].output_shape\n",
    "model.layers[0].get_weights()\n",
    "np.shape(model.layers[0].get_weights()[0])\n",
    "model.layers[0].trainable"
   ]
  },
  {
   "cell_type": "code",
   "execution_count": 8,
   "metadata": {},
   "outputs": [
    {
     "name": "stdout",
     "output_type": "stream",
     "text": [
      "Loaded model from disk\n"
     ]
    }
   ],
   "source": [
    "# load json and create model\n",
    "json_file = open('model.json', 'r')\n",
    "loaded_model_json = json_file.read()\n",
    "json_file.close()\n",
    "loaded_model = model_from_json(loaded_model_json)\n",
    "# load weights into new model\n",
    "loaded_model.load_weights(\"model.h5\")\n",
    "print(\"Loaded model from disk\")"
   ]
  },
  {
   "cell_type": "code",
   "execution_count": 10,
   "metadata": {},
   "outputs": [],
   "source": [
    "# evaluate loaded model on test data\n",
    "loaded_model.compile(loss='categorical_crossentropy', optimizer='adadelta', metrics=['accuracy'])"
   ]
  },
  {
   "cell_type": "code",
   "execution_count": 12,
   "metadata": {},
   "outputs": [
    {
     "name": "stdout",
     "output_type": "stream",
     "text": [
      "class 2(Percurso3.2)\n"
     ]
    }
   ],
   "source": [
    "PATH = os.getcwd()\n",
    "str_file_image = PATH + '/test/percurso2/' + 'IMG_1006.JPG'\n",
    "\n",
    "test_image = cv2.imread(str_file_image,0)\n",
    "test_image = cv2.resize(test_image,(128,128))\n",
    "test_image = np.array(test_image)\n",
    "test_image = test_image.astype('float32')\n",
    "test_image /= 255\n",
    "#print (test_image.shape)\n",
    "   \n",
    "if num_channel==1:\n",
    "    if K.image_dim_ordering()=='th':\n",
    "        test_image= np.expand_dims(test_image, axis=0)\n",
    "        test_image= np.expand_dims(test_image, axis=0)\n",
    "        #print (test_image.shape)\n",
    "    else:\n",
    "        test_image= np.expand_dims(test_image, axis=3) \n",
    "        test_image= np.expand_dims(test_image, axis=0)\n",
    "        #print (test_image.shape)\n",
    "\n",
    "else:\n",
    "    if K.image_dim_ordering()=='th':\n",
    "        test_image=np.rollaxis(test_image,2,0)\n",
    "        test_image= np.expand_dims(test_image, axis=0)\n",
    "        #print (test_image.shape)\n",
    "    else:\n",
    "        test_image= np.expand_dims(test_image, axis=0)\n",
    "        #print (test_image.shape)\n",
    "\n",
    "# Predicting the test image\n",
    "#print((model.predict(test_image)))\n",
    "if int(model.predict_classes(test_image)) == 0:\n",
    "    print('class 0(Percurso1.1)')\n",
    "elif int(model.predict_classes(test_image)) == 1:\n",
    "    print('class 1(Percurso3.3)')\n",
    "elif int(model.predict_classes(test_image)) == 2:\n",
    "    print('class 2(Percurso3.2)')\n",
    "elif int(model.predict_classes(test_image)) == 3:\n",
    "    print('class 3(Percurso4.2)')\n",
    "elif int(model.predict_classes(test_image)) == 4:\n",
    "    print('class 4(Percurso1.2)')\n",
    "elif int(model.predict_classes(test_image)) == 5:\n",
    "    print('class 5(Percurso2.1)')\n",
    "elif int(model.predict_classes(test_image)) == 6:\n",
    "    print('class 6(Percurso3.1)')\n",
    "elif int(model.predict_classes(test_image)) == 7:\n",
    "    print('class 7(Percurso4.1)')\n",
    "elif int(model.predict_classes(test_image)) == 8:\n",
    "    print('class 8(Percurso2.2)')\n",
    "elif int(model.predict_classes(test_image)) == 9:\n",
    "    print('class 9(Percurso2.3)')\n",
    "elif int(model.predict_classes(test_image)) == 10:\n",
    "    print('class 10(Percurso4.3)')\n",
    "elif int(model.predict_classes(test_image)) == 11:\n",
    "    print('class 11(Percurso1.3)')"
   ]
  },
  {
   "cell_type": "code",
   "execution_count": null,
   "metadata": {},
   "outputs": [],
   "source": []
  }
 ],
 "metadata": {
  "kernelspec": {
   "display_name": "Python 3",
   "language": "python",
   "name": "python3"
  },
  "language_info": {
   "codemirror_mode": {
    "name": "ipython",
    "version": 3
   },
   "file_extension": ".py",
   "mimetype": "text/x-python",
   "name": "python",
   "nbconvert_exporter": "python",
   "pygments_lexer": "ipython3",
   "version": "3.6.5"
  }
 },
 "nbformat": 4,
 "nbformat_minor": 2
}
